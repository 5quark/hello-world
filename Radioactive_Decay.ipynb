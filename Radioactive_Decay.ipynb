{
  "nbformat": 4,
  "nbformat_minor": 0,
  "metadata": {
    "colab": {
      "name": "Radioactive Decay.ipynb",
      "provenance": [],
      "authorship_tag": "ABX9TyOTw2L/U3emsdidOcua14hv",
      "include_colab_link": true
    },
    "kernelspec": {
      "name": "python3",
      "display_name": "Python 3"
    }
  },
  "cells": [
    {
      "cell_type": "markdown",
      "metadata": {
        "id": "view-in-github",
        "colab_type": "text"
      },
      "source": [
        "<a href=\"https://colab.research.google.com/github/5quark/hello-world/blob/master/Radioactive_Decay.ipynb\" target=\"_parent\"><img src=\"https://colab.research.google.com/assets/colab-badge.svg\" alt=\"Open In Colab\"/></a>"
      ]
    },
    {
      "cell_type": "code",
      "metadata": {
        "id": "f6dizwB6cyAe",
        "colab_type": "code",
        "outputId": "1d422e6f-ffa3-4841-9982-540ceed14388",
        "colab": {
          "base_uri": "https://localhost:8080/",
          "height": 301
        }
      },
      "source": [
        "import pandas as pd\n",
        "data = pd.read_excel(\"radioactiveDecayData.xlsx\")\n",
        "print(data)"
      ],
      "execution_count": 1,
      "outputs": [
        {
          "output_type": "stream",
          "text": [
            "   Unnamed: 0 Unnamed: 1  5 squeeze  7 squeeze  9 squeeze 11 squeeze\n",
            "0         NaN    t_1 (s)      13.03       7.09      15.64      15,57\n",
            "1         NaN    t_2 (s)      32.11      20.67      30.94      32,64\n",
            "2      2500 V    t_3 (s)      57.92      40.41      51.33      52,91\n",
            "3         NaN    t_4 (s)      94.91      65.26      77.47      81,89\n",
            "4         NaN    t_5 (s)     161.89     106.87     115.70     126,82\n",
            "5         NaN    t_1 (s)      14.23      15.45      17.57      10.68\n",
            "6         NaN    t_2 (s)      31.03      32.53      34.73       26.6\n",
            "7      3000 V    t_3 (s)      56.53      53.36      56.39      46.06\n",
            "8         NaN    t_4 (s)      94.20      80.12      86.80      72.94\n",
            "9         NaN    t_5 (s)     165.53     123.22     135.72     111.52\n",
            "10        NaN    t_1 (s)      19.90      22.47       4.67       21.5\n",
            "11        NaN    t_2 (s)      40.10      44.34      19.31      40.96\n",
            "12     3500 V    t_3 (s)      66.73      71.49      36.64      66.87\n",
            "13        NaN    t_4 (s)     109.08     115.65      58.69      105.7\n",
            "14        NaN    t_5 (s)     186.41     222.22      90.48     184.46\n"
          ],
          "name": "stdout"
        }
      ]
    },
    {
      "cell_type": "markdown",
      "metadata": {
        "id": "piynlKpScdFT",
        "colab_type": "text"
      },
      "source": [
        "From this we can immediately see that we need to seperate our data first before doing the analysis. I will first create seperate data frames for each voltage value."
      ]
    },
    {
      "cell_type": "markdown",
      "metadata": {
        "id": "N-L5zvB-g2Kw",
        "colab_type": "text"
      },
      "source": [
        ""
      ]
    },
    {
      "cell_type": "code",
      "metadata": {
        "id": "yGK11oiJcrEK",
        "colab_type": "code",
        "outputId": "701f74f8-4b5b-45ce-f53c-5fd422b6d414",
        "colab": {
          "base_uri": "https://localhost:8080/",
          "height": 336
        }
      },
      "source": [
        "df_2500V=pd.DataFrame([],columns=data.columns)\n",
        "df_2500V=data[:5]\n",
        "#repeat the same prodecure for 2 more times for different voltages.\n",
        "df_3000V=pd.DataFrame([],columns=data.columns)\n",
        "df_3000V=data[5:10]\n",
        "df_3500V=pd.DataFrame([],columns=data.columns)\n",
        "df_3500V=data[10:15]\n",
        "print(df_2500V)\n",
        "print(df_3000V)\n",
        "print(df_3500V)\n",
        "\n"
      ],
      "execution_count": 2,
      "outputs": [
        {
          "output_type": "stream",
          "text": [
            "  Unnamed: 0 Unnamed: 1  5 squeeze  7 squeeze  9 squeeze 11 squeeze\n",
            "0        NaN    t_1 (s)      13.03       7.09      15.64      15,57\n",
            "1        NaN    t_2 (s)      32.11      20.67      30.94      32,64\n",
            "2     2500 V    t_3 (s)      57.92      40.41      51.33      52,91\n",
            "3        NaN    t_4 (s)      94.91      65.26      77.47      81,89\n",
            "4        NaN    t_5 (s)     161.89     106.87     115.70     126,82\n",
            "  Unnamed: 0 Unnamed: 1  5 squeeze  7 squeeze  9 squeeze 11 squeeze\n",
            "5        NaN    t_1 (s)      14.23      15.45      17.57      10.68\n",
            "6        NaN    t_2 (s)      31.03      32.53      34.73       26.6\n",
            "7     3000 V    t_3 (s)      56.53      53.36      56.39      46.06\n",
            "8        NaN    t_4 (s)      94.20      80.12      86.80      72.94\n",
            "9        NaN    t_5 (s)     165.53     123.22     135.72     111.52\n",
            "   Unnamed: 0 Unnamed: 1  5 squeeze  7 squeeze  9 squeeze 11 squeeze\n",
            "10        NaN    t_1 (s)      19.90      22.47       4.67       21.5\n",
            "11        NaN    t_2 (s)      40.10      44.34      19.31      40.96\n",
            "12     3500 V    t_3 (s)      66.73      71.49      36.64      66.87\n",
            "13        NaN    t_4 (s)     109.08     115.65      58.69      105.7\n",
            "14        NaN    t_5 (s)     186.41     222.22      90.48     184.46\n"
          ],
          "name": "stdout"
        }
      ]
    },
    {
      "cell_type": "markdown",
      "metadata": {
        "id": "dDgv57OJUyh9",
        "colab_type": "text"
      },
      "source": [
        "Now that we have each data frame seperately i will now start calculating time intervals, s's, 1/s's and T's that are mentioned in the report. \n"
      ]
    },
    {
      "cell_type": "code",
      "metadata": {
        "id": "8wdC36h_lHXx",
        "colab_type": "code",
        "colab": {}
      },
      "source": [
        "#for 2500V, instead of creating different lists for each number of squeezes at the beginning i will split my list later in the code. \n",
        "s_i_2500V=[]\n",
        "T_2500V=[]\n",
        "s_inverse_2500V=[]\n",
        "#Where first 4 elements of the each list is going to be correspond to 5 sequeezes, following 4 elements to 7 squeezes and so on. \n",
        "for i in range(2,5):\n",
        "    #start to iterate though columns, from 5 squeeze to 11 squeeze\n",
        "    for j in range(4):\n",
        "        #iteration through rows\n",
        "        s_i_2500V.append(df_2500V.iloc[j+1,i]-df_2500V.iloc[j,i])\n",
        "        T_2500V.append((df_2500V.iloc[j+1,i]+df_2500V.iloc[j,i])/2)\n",
        "for i in range(len(s_i_2500V)):\n",
        "    s_inverse_2500V.append(1/s_i_2500V[i])\n",
        "\n",
        "#For 3000V\n",
        "s_i_3000V=[]\n",
        "T_3000V=[]\n",
        "s_inverse_3000V=[]\n",
        "for i in range(2,5):\n",
        "    for j in range(4):\n",
        "        s_i_3000V.append(df_3000V.iloc[j+1,i]-df_3000V.iloc[j,i])\n",
        "        T_3000V.append((df_3000V.iloc[j+1,i]+df_3000V.iloc[j,i])/2)\n",
        "for i in range(len(s_i_3000V)):\n",
        "    s_inverse_3000V.append(1/s_i_3000V[i])\n",
        "\n",
        "#For 3500V\n",
        "s_i_3500V=[]\n",
        "T_3500V=[]\n",
        "s_inverse_3500V=[]\n",
        "for i in range(2,5):\n",
        "    for j in range(4):\n",
        "        s_i_3500V.append(df_3500V.iloc[j+1,i]-df_3500V.iloc[j,i])\n",
        "        T_3500V.append((df_3500V.iloc[j+1,i]+df_3500V.iloc[j,i])/2)\n",
        "for i in range(len(s_i_3500V)):\n",
        "    s_inverse_3500V.append(1/s_i_3500V[i])\n"
      ],
      "execution_count": 0,
      "outputs": []
    },
    {
      "cell_type": "markdown",
      "metadata": {
        "id": "eGRVKevjcbKX",
        "colab_type": "text"
      },
      "source": [
        "Now we need to plot 1/s vs T graph *(s_inverse vs. T_i)* for each different voltage value and for each unique number of squeezes. So we will have 12 plots."
      ]
    },
    {
      "cell_type": "code",
      "metadata": {
        "id": "TY7vYojn-6Wg",
        "colab_type": "code",
        "colab": {
          "base_uri": "https://localhost:8080/",
          "height": 281
        },
        "outputId": "4d810d41-893c-4f64-dfc4-a5c48b83f0b0"
      },
      "source": [
        "#Graphs for 2500V\n",
        "from matplotlib import pyplot as plt \n",
        "#5squeeze\n",
        "s_inverse_2500V_5=s_inverse_2500V[:4]\n",
        "T_2500V_5=T_2500V[:4]\n",
        "plt.plot(s_inverse_2500V_5,T_2500V_5)\n",
        "plt.title(\"inverse s vs T\")\n",
        "\n",
        "\n",
        "#7squeeze\n",
        "s_inverse_2500V_7=s_inverse_2500V[4:8]\n",
        "T_2500V_7=s_inverse_2500V[4:8]\n",
        "#9 squueze\n",
        "s_inverse_2500V_9=s_inverse_2500V[8:12]\n",
        "T_2500V_9=s_inverse_2500V[8:12]\n",
        "#11squeeze\n",
        "s_inverse_2500V_11=s_inverse_2500V[12:16]\n",
        "T_2500V_11=s_inverse_2500V[12:16]\n",
        "\n",
        "#3000V\n",
        "#5\n",
        "s_inverse_3000V_5=s_inverse_3000V[:4]\n",
        "T_3000V_5=T_3000V[:4]\n",
        "#7squeeze\n",
        "s_inverse_3000V_7=s_inverse_3000V[4:8]\n",
        "T_3000V_7=s_inverse_2500V[4:8]\n",
        "#9 squueze\n",
        "s_inverse_3000V_9=s_inverse_3000V[8:12]\n",
        "T_3000V_9=s_inverse_3000V[8:12]\n",
        "#11squeeze\n",
        "s_inverse_3000V_11=s_inverse_3000V[12:16]\n",
        "T_3000V_11=s_inverse_3000V[12:16]\n",
        "\n",
        "\n",
        "#3500 squeeze\n",
        "#5squeeze\n",
        "s_inverse_3500V_5=s_inverse_3500V[:4]\n",
        "T_3500V_5=T_3500V[:4]\n",
        "#7squeeze\n",
        "s_inverse_3500V_7=s_inverse_3500V[4:8]\n",
        "T_3500V_7=s_inverse_3500V[4:8]\n",
        "#9 squueze\n",
        "s_inverse_3500V_9=s_inverse_3500V[8:12]\n",
        "T_3500V_9=s_inverse_3500V[8:12]\n",
        "#11squeeze\n",
        "s_inverse_3500V_11=s_inverse_3500V[12:16]\n",
        "T_3500V_11=s_inverse_3500V[12:16]\n",
        "\n",
        "\n",
        "\n"
      ],
      "execution_count": 4,
      "outputs": [
        {
          "output_type": "display_data",
          "data": {
            "image/png": "[encoded data removed]",
            "text/plain": [
              "<Figure size 432x288 with 1 Axes>"
            ]
          },
          "metadata": {
            "tags": [],
            "needs_background": "light"
          }
        }
      ]
    },
    {
      "cell_type": "markdown",
      "metadata": {
        "id": "CcYfF3m3pVtx",
        "colab_type": "text"
      },
      "source": [
        "After that we need to plot $\\ln{(1/s_i)}$ vs T but we need error bars and $\\ln{(1/s_i)}$ values for this. I will start by finding $\\ln{(1/s_i)}$ values:\n"
      ]
    },
    {
      "cell_type": "code",
      "metadata": {
        "id": "l1ftzcKvOFDE",
        "colab_type": "code",
        "colab": {}
      },
      "source": [
        "#lns values\n",
        "import numpy as np\n",
        "#2500V\n",
        "lns_inverse_2500V_5=[]\n",
        "for i in s_inverse_2500V_5:\n",
        "    lns_inverse_2500V_5.append(np.log(i))\n",
        "#repeat the same for 7,9 and 9 squeezes.\n",
        "lns_inverse_2500V_7=[]\n",
        "for i in s_inverse_2500V_7:\n",
        "    lns_inverse_2500V_7.append(np.log(i))\n",
        "lns_inverse_2500V_9=[]\n",
        "for i in s_inverse_2500V_9:\n",
        "    lns_inverse_2500V_9.append(np.log(i))\n",
        "lns_inverse_2500V_11=[]\n",
        "for i in s_inverse_2500V_11:\n",
        "    lns_inverse_2500V_11.append(np.log(i))\n",
        "#3000V \n",
        "lns_inverse_3000V_5=[]\n",
        "for i in s_inverse_3000V_5:\n",
        "    lns_inverse_3000V_5.append(np.log(i))\n",
        "lns_inverse_3000V_7=[]\n",
        "for i in s_inverse_3000V_7:\n",
        "    lns_inverse_3000V_7.append(np.log(i))\n",
        "lns_inverse_3000V_9=[]\n",
        "for i in s_inverse_3000V_9:\n",
        "    lns_inverse_3000V_9.append(np.log(i))\n",
        "lns_inverse_3000V_11=[]\n",
        "for i in s_inverse_3000V_11:\n",
        "    lns_inverse_3000V_11.append(np.log(i))\n",
        "#3500V\n",
        "lns_inverse_3500V_5=[]\n",
        "for i in s_inverse_3500V_5:\n",
        "    lns_inverse_3500V_5.append(np.log(i))\n",
        "lns_inverse_3500V_7=[]\n",
        "for i in s_inverse_3500V_7:\n",
        "    lns_inverse_3500V_7.append(np.log(i))\n",
        "lns_inverse_3500V_9=[]\n",
        "for i in s_inverse_3500V_9:\n",
        "    lns_inverse_3500V_9.append(np.log(i))\n",
        "lns_inverse_3500V_11=[]\n",
        "for i in s_inverse_3500V_11:\n",
        "    lns_inverse_3500V_11.append(np.log(i))\n"
      ],
      "execution_count": 0,
      "outputs": []
    },
    {
      "cell_type": "markdown",
      "metadata": {
        "id": "Eimlmu6PgKBz",
        "colab_type": "text"
      },
      "source": [
        "Now that i find ln(1/s)'s i can find errors for them. Errors for T_i are constant. $$\\sigma_{(\\ln{(1/s_i})}^2=\\frac{0.32}{{s_i}^2}.$$ We need to take square root of each side.\n",
        "\n"
      ]
    },
    {
      "cell_type": "code",
      "metadata": {
        "id": "AdYX3swVgWc_",
        "colab_type": "code",
        "colab": {}
      },
      "source": [
        "#errors\n",
        "import math\n",
        "#2500V\n",
        "#5 squeeze \n",
        "sigma_2500V_5=[]\n",
        "sigma_2500V_5=math.sqrt(0.32)/np.array(s_i_2500V[0:4])\n",
        "#7 squeeze\n",
        "sigma_2500V_7=[]\n",
        "sigma_2500V_7=math.sqrt(0.32)/np.array(s_i_2500V[4:8])\n",
        "#9 squeeze\n",
        "sigma_2500V_9=[]\n",
        "sigma_2500V_9=math.sqrt(0.32)/np.array(s_i_2500V[8:12])\n",
        "#11 squuze\n",
        "sigma_2500V_11=[]\n",
        "sigma_2500V_11=math.sqrt(0.32)/np.array(s_i_2500V[12:16])\n",
        "\n",
        "#3000V\n",
        "#5 squeeze \n",
        "sigma_3000V_5=[]\n",
        "sigma_3000V_5=math.sqrt(0.32)/np.array(s_i_3000V[0:4])\n",
        "#7 squeeze\n",
        "sigma_3000V_7=[]\n",
        "sigma_3000V_7=math.sqrt(0.32)/np.array(s_i_3000V[4:8])\n",
        "#9 squeeze\n",
        "sigma_3000V_9=[]\n",
        "sigma_3000V_9=math.sqrt(0.32)/np.array(s_i_3000V[8:12])\n",
        "#11 squuze\n",
        "sigma_3000V_11=[]\n",
        "sigma_3000V_11=math.sqrt(0.32)/np.array(s_i_3000V[12:16])\n",
        "\n",
        "\n",
        "#3500V\n",
        "#5 squeeze \n",
        "sigma_3500V_5=[]\n",
        "sigma_3500V_5=math.sqrt(0.32)/np.array(s_i_3500V[0:4])\n",
        "#7 squeeze\n",
        "sigma_3500V_7=[]\n",
        "sigma_3500V_7=math.sqrt(0.32)/np.array(s_i_3500V[4:8])\n",
        "#9 squeeze\n",
        "sigma_3500V_9=[]\n",
        "sigma_3500V_9=math.sqrt(0.32)/np.array(s_i_3500V[8:12])\n",
        "#11 squuze\n",
        "sigma_3500V_11=[]\n",
        "sigma_3500V_11=math.sqrt(0.32)/np.array(s_i_3500V[12:16])\n"
      ],
      "execution_count": 0,
      "outputs": []
    },
    {
      "cell_type": "markdown",
      "metadata": {
        "id": "vtIbLdC1ALUB",
        "colab_type": "text"
      },
      "source": [
        "Since $\\sigma_{T_i}=0.16$ is constant for error bars in y-axis i will just create a single list for it. \n"
      ]
    },
    {
      "cell_type": "code",
      "metadata": {
        "id": "6c5O04JoAt-M",
        "colab_type": "code",
        "colab": {}
      },
      "source": [
        "sigma_T=[0.16,0.16,0.16,0.16]"
      ],
      "execution_count": 0,
      "outputs": []
    },
    {
      "cell_type": "markdown",
      "metadata": {
        "id": "bKOyUtETOtsO",
        "colab_type": "text"
      },
      "source": [
        "Now that i found all the values i need i can use scipy's odr method to find a fit. "
      ]
    },
    {
      "cell_type": "code",
      "metadata": {
        "id": "Yh86VNMnB5zP",
        "colab_type": "code",
        "colab": {
          "base_uri": "https://localhost:8080/",
          "height": 238
        },
        "outputId": "567ea16f-54a3-465e-952a-06d96685d92f"
      },
      "source": [
        "import scipy\n",
        "def f(B,x):\n",
        "    return B[0]*x+B[1]\n",
        "linear = Model(f)\n",
        "mydata = RealData(x, y, sx=sx, sy=sy)\n",
        "myodr = ODR(mydata, linear, beta0=[0., 1.])\n",
        "myoutput = myodr.run()\n"
      ],
      "execution_count": 8,
      "outputs": [
        {
          "output_type": "error",
          "ename": "NameError",
          "evalue": "ignored",
          "traceback": [
            "\u001b[0;31m---------------------------------------------------------------------------\u001b[0m",
            "\u001b[0;31mNameError\u001b[0m                                 Traceback (most recent call last)",
            "\u001b[0;32m<ipython-input-8-40c96cb47ea1>\u001b[0m in \u001b[0;36m<module>\u001b[0;34m()\u001b[0m\n\u001b[1;32m      2\u001b[0m \u001b[0;32mdef\u001b[0m \u001b[0mf\u001b[0m\u001b[0;34m(\u001b[0m\u001b[0mB\u001b[0m\u001b[0;34m,\u001b[0m\u001b[0mx\u001b[0m\u001b[0;34m)\u001b[0m\u001b[0;34m:\u001b[0m\u001b[0;34m\u001b[0m\u001b[0;34m\u001b[0m\u001b[0m\n\u001b[1;32m      3\u001b[0m     \u001b[0;32mreturn\u001b[0m \u001b[0mB\u001b[0m\u001b[0;34m[\u001b[0m\u001b[0;36m0\u001b[0m\u001b[0;34m]\u001b[0m\u001b[0;34m*\u001b[0m\u001b[0mx\u001b[0m\u001b[0;34m+\u001b[0m\u001b[0mB\u001b[0m\u001b[0;34m[\u001b[0m\u001b[0;36m1\u001b[0m\u001b[0;34m]\u001b[0m\u001b[0;34m\u001b[0m\u001b[0;34m\u001b[0m\u001b[0m\n\u001b[0;32m----> 4\u001b[0;31m \u001b[0mlinear\u001b[0m \u001b[0;34m=\u001b[0m \u001b[0mModel\u001b[0m\u001b[0;34m(\u001b[0m\u001b[0mf\u001b[0m\u001b[0;34m)\u001b[0m\u001b[0;34m\u001b[0m\u001b[0;34m\u001b[0m\u001b[0m\n\u001b[0m\u001b[1;32m      5\u001b[0m \u001b[0mmydata\u001b[0m \u001b[0;34m=\u001b[0m \u001b[0mRealData\u001b[0m\u001b[0;34m(\u001b[0m\u001b[0mx\u001b[0m\u001b[0;34m,\u001b[0m \u001b[0my\u001b[0m\u001b[0;34m,\u001b[0m \u001b[0msx\u001b[0m\u001b[0;34m=\u001b[0m\u001b[0msx\u001b[0m\u001b[0;34m,\u001b[0m \u001b[0msy\u001b[0m\u001b[0;34m=\u001b[0m\u001b[0msy\u001b[0m\u001b[0;34m)\u001b[0m\u001b[0;34m\u001b[0m\u001b[0;34m\u001b[0m\u001b[0m\n\u001b[1;32m      6\u001b[0m \u001b[0mmyodr\u001b[0m \u001b[0;34m=\u001b[0m \u001b[0mODR\u001b[0m\u001b[0;34m(\u001b[0m\u001b[0mmydata\u001b[0m\u001b[0;34m,\u001b[0m \u001b[0mlinear\u001b[0m\u001b[0;34m,\u001b[0m \u001b[0mbeta0\u001b[0m\u001b[0;34m=\u001b[0m\u001b[0;34m[\u001b[0m\u001b[0;36m0.\u001b[0m\u001b[0;34m,\u001b[0m \u001b[0;36m1.\u001b[0m\u001b[0;34m]\u001b[0m\u001b[0;34m)\u001b[0m\u001b[0;34m\u001b[0m\u001b[0;34m\u001b[0m\u001b[0m\n",
            "\u001b[0;31mNameError\u001b[0m: name 'Model' is not defined"
          ]
        }
      ]
    }
  ]
}